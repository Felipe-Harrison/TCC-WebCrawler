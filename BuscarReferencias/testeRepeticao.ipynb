{
 "cells": [
  {
   "cell_type": "code",
   "execution_count": 2,
   "metadata": {},
   "outputs": [],
   "source": [
    "import json\n",
    "import unidecode\n",
    "from difflib import SequenceMatcher\n",
    "from sklearn.feature_extraction.text import TfidfVectorizer\n",
    "from sklearn.metrics.pairwise import cosine_similarity\n",
    "from IPython.display import clear_output\n",
    "import numpy as np\n",
    "\n",
    "import textdistance as td"
   ]
  },
  {
   "cell_type": "markdown",
   "metadata": {},
   "source": [
    "### Utils"
   ]
  },
  {
   "cell_type": "code",
   "execution_count": 6,
   "metadata": {},
   "outputs": [],
   "source": [
    "def ler_json(file_path):\n",
    "    with open(file_path, 'r') as file:\n",
    "        data = json.load(file)\n",
    "    return data\n",
    "\n",
    "# transoformar em minusculo\n",
    "# remover palavras repetidas\n",
    "def normalizar_palavra(palavra):\n",
    "    palavra_normalizada = unidecode.unidecode(palavra.lower().replace(\",\",\"\").replace('\"',\"\").replace(\".\",\"\"))\n",
    "    return palavra_normalizada\n",
    "\n",
    "def obterPalavrasTexto(texto:str,repetirPalavras = False):\n",
    "    texto_separado = texto.split()\n",
    "    palavras_do_texto = []\n",
    "    for palavra in texto_separado:\n",
    "        palavraNormalizada = normalizar_palavra(palavra)\n",
    "        if not repetirPalavras and palavraNormalizada not in palavras_do_texto:\n",
    "            palavras_do_texto.append(palavraNormalizada)   \n",
    "    return palavras_do_texto\n",
    "        \n",
    "# Similaridade usando coseno\n",
    "def cosine_similarity_text(text1, text2):\n",
    "    # Criar vetorizador TF-IDF\n",
    "    vectorizer = TfidfVectorizer()\n",
    "    \n",
    "    # Ajustar e transformar os textos para a matriz TF-IDF\n",
    "    tfidf_matrix = vectorizer.fit_transform([text1, text2])\n",
    "    \n",
    "    # Calcular a similaridade cosseno entre os textos\n",
    "    cosine_sim = cosine_similarity(tfidf_matrix[0], tfidf_matrix[1])[0][0]\n",
    "    \n",
    "    return cosine_sim\n",
    "\n",
    "#Similaridade por distancia entre textos:\n",
    "def distance_similarity_text(text1,text2):\n",
    "    return td.levenshtein.normalized_similarity(text1,text2)"
   ]
  },
  {
   "cell_type": "markdown",
   "metadata": {},
   "source": [
    "## Filtrando textos similares obtidos com função SequenceMatcher"
   ]
  },
  {
   "cell_type": "code",
   "execution_count": 3,
   "metadata": {},
   "outputs": [],
   "source": [
    "similaresTest =  ler_json(\"./similaresGrande.json\") # Sem Seleção manual"
   ]
  },
  {
   "cell_type": "code",
   "execution_count": 5,
   "metadata": {},
   "outputs": [],
   "source": [
    "linhas = [\n",
    "    0, 1, 17, 34, 37, 50, 54, 94, # Diff\n",
    "    2, 4, 25, 32, 33, 91, 197, 213 # Similar\n",
    "]\n",
    "\n",
    "def cria_texto_objeto(texto, linha, index, pos):\n",
    "    return {\n",
    "        \"url\": texto[linha][pos][\"url\"],\n",
    "        \"titulo\": texto[linha][pos][\"titulo\"],\n",
    "        \"titulo-limpo\": texto[linha][pos][\"tituloLimpo\"],\n",
    "        \"texto-limpo\": texto[linha][pos][\"textoMinusculo\"],\n",
    "        \"similar\": False if index < len(linhas) / 2 else True\n",
    "    }\n",
    "\n",
    "textosSimilaresFiltrados = []\n",
    "for index,linha in enumerate(linhas):\n",
    "    textosSimilaresFiltrados.append([\n",
    "        cria_texto_objeto(similaresTest,linha,index,0),\n",
    "        cria_texto_objeto(similaresTest,linha,index,1),  \n",
    "    ])\n"
   ]
  },
  {
   "cell_type": "code",
   "execution_count": 6,
   "metadata": {},
   "outputs": [],
   "source": [
    "with open(f\"./similares.json\",'w+',encoding=\"utf8\") as f:\n",
    "    json.dump(textosSimilaresFiltrados,f,indent=3,allow_nan=True,ensure_ascii = False)\n",
    "    f.close()"
   ]
  },
  {
   "cell_type": "markdown",
   "metadata": {},
   "source": [
    "## Descobrindo limite de similaridade"
   ]
  },
  {
   "cell_type": "code",
   "execution_count": 12,
   "metadata": {},
   "outputs": [],
   "source": [
    "LIMITE_SIMILARIDADE = 0.21073081490174875 #+ 0.02\n",
    "\n",
    "def ehSimilar(grau_similaridade):\n",
    "    return True if grau_similaridade > LIMITE_SIMILARIDADE else False"
   ]
  },
  {
   "cell_type": "markdown",
   "metadata": {},
   "source": [
    "## Avaliando similaridade dos textos"
   ]
  },
  {
   "cell_type": "code",
   "execution_count": 13,
   "metadata": {},
   "outputs": [
    {
     "name": "stdout",
     "output_type": "stream",
     "text": [
      "False: Cosine: 0.07397129483465995 - Distance: 0.42000000000000004 == False\n",
      "False: Cosine: 0.07397129483465995 - Distance: 0.36 == False\n",
      "False: Cosine: 0.20199309249791836 - Distance: 0.37209302325581395 == False\n",
      "False: Cosine: 0.06804963087832473 - Distance: 0.40384615384615385 == False\n",
      "False: Cosine: 0.11234277891542778 - Distance: 0.39682539682539686 == False\n",
      "False: Cosine: 0.21528271546341893 - Distance: 0.45679012345679015 == True\n",
      "False: Cosine: 0.38087260847594373 - Distance: 0.46031746031746035 == True\n",
      "False: Cosine: 0.18443191662261307 - Distance: 0.4117647058823529 == False\n",
      "True: Cosine: 0.24478531173455215 - Distance: 0.509090909090909 == True\n",
      "True: Cosine: 0.5023287782256718 - Distance: 0.4516129032258065 == True\n",
      "True: Cosine: 0.40711465268091374 - Distance: 0.4666666666666667 == True\n",
      "True: Cosine: 0.2532094495161746 - Distance: 0.5660377358490566 == True\n",
      "True: Cosine: 0.22150013430590976 - Distance: 0.42105263157894735 == True\n",
      "True: Cosine: 0.615218690896332 - Distance: 0.7014925373134329 == True\n",
      "True: Cosine: 0.33609692727625745 - Distance: 0.4571428571428572 == True\n",
      "True: Cosine: 0.36091094553587044 - Distance: 0.5 == True\n"
     ]
    }
   ],
   "source": [
    "textosSimilares = ler_json(\"./similares.json\")\n",
    "\n",
    "for grupoTexto in textosSimilares:\n",
    "    texto1,texto2 = grupoTexto[0][\"titulo-limpo\"], grupoTexto[1][\"titulo-limpo\"]\n",
    "    \n",
    "    similaridadeCosine = cosine_similarity_text(\n",
    "        \" \".join(obterPalavrasTexto(texto1)),\n",
    "        \" \".join(obterPalavrasTexto(texto2)),\n",
    "    )\n",
    "    \n",
    "    similaridadeDistance =distance_similarity_text(\n",
    "        \"\".join(obterPalavrasTexto(texto1)),\n",
    "        \"\".join(obterPalavrasTexto(texto2)),\n",
    "    )\n",
    "    \n",
    "    print(f\"{grupoTexto[0]['similar']}: Cosine: {similaridadeCosine} - Distance: {similaridadeDistance} == {ehSimilar(similaridadeCosine)}\")"
   ]
  },
  {
   "cell_type": "code",
   "execution_count": 4,
   "metadata": {},
   "outputs": [
    {
     "name": "stdout",
     "output_type": "stream",
     "text": [
      "Acertos Similares: 7/8.0\n",
      "Acertos Não Similares: 5/8.0\n",
      "Acertos Totais: 12/16 = 48.75%\n",
      "Similaridade Média: 0.34594763540328094\n",
      "Não Similaridade Média: 0.21073081490174875\n"
     ]
    }
   ],
   "source": [
    "\n",
    "\n",
    "naoSimilariadeMedia = 0\n",
    "similariadeMedia = 0\n",
    "acertosFalse = 0\n",
    "acertosTrue = 0\n",
    "\n",
    "for grupoTexto in textosSimilares:\n",
    "    texto1,texto2 = grupoTexto[0][\"titulo\"], grupoTexto[1][\"titulo\"]\n",
    "    \n",
    "    similaridade = cosine_similarity_text(\n",
    "        \" \".join(obterPalavrasTexto(texto1)),\n",
    "        \" \".join(obterPalavrasTexto(texto2)),\n",
    "    )\n",
    "    \n",
    "    if grupoTexto[0][\"similar\"] == False:\n",
    "        naoSimilariadeMedia += similaridade\n",
    "        if ehSimilar(similaridade) == grupoTexto[0]['similar']:\n",
    "            acertosFalse += 1\n",
    "    else:\n",
    "        similariadeMedia += similaridade\n",
    "        if ehSimilar(similaridade) == grupoTexto[0]['similar']:\n",
    "            acertosTrue += 1\n",
    "    \n",
    "    #print(f\"Similaridade: {similaridade}; Previsão: {ehSimilar(similaridade)}; Real: {grupoTexto[0]['similar']}\")\n",
    "\n",
    "metade = len(textosSimilares)/2\n",
    "print(f\"Acertos Similares: {acertosTrue}/{metade}\")\n",
    "print(f\"Acertos Não Similares: {acertosFalse}/{metade}\")\n",
    "print(f\"Acertos Totais: {acertosFalse + acertosTrue}/{len(textosSimilares)} = {acertosFalse + acertosTrue/len(textosSimilares)*100}%\")\n",
    "print(f\"Similaridade Média: {similariadeMedia/metade}\")\n",
    "print(f\"Não Similaridade Média: {naoSimilariadeMedia/metade}\")\n",
    "\n",
    "# Teste\n",
    "# Acertos Similares: 7/8.0\n",
    "# Acertos Não Similares: 5/8.0\n",
    "# Acertos Totais: 12/16 = 48.75%\n",
    "# Similaridade Média: 0.34594763540328094\n",
    "# Não Similaridade Média: 0.21073081490174875\n",
    "    \n"
   ]
  },
  {
   "cell_type": "markdown",
   "metadata": {},
   "source": [
    "# Pesquisando nos textos obtidos"
   ]
  },
  {
   "cell_type": "code",
   "execution_count": 8,
   "metadata": {},
   "outputs": [],
   "source": [
    "fatooufake = ler_json(\"./FatoouFake/fatofakeTeste1.json\")\n",
    "boatosorg = ler_json(\"./Boatos.org/boatosorg_ref.json\")"
   ]
  },
  {
   "cell_type": "code",
   "execution_count": 9,
   "metadata": {},
   "outputs": [],
   "source": [
    "textosRepetidos = []\n",
    "maximoTextos = int(len(boatosorg)*0.1)\n",
    "\n",
    "for index,texto_b in enumerate(boatosorg[0:maximoTextos]):\n",
    "    for texto_ff in fatooufake:\n",
    "        \n",
    "        texto1,texto2 = texto_b[\"texto\"], texto_ff[\"titulo\"]\n",
    "        similaridade = cosine_similarity_text(\n",
    "            \" \".join(obterPalavrasTexto(texto1)),\n",
    "            \" \".join(obterPalavrasTexto(texto2)),\n",
    "        )\n",
    "        \n",
    "        if ehSimilar(similaridade):\n",
    "            textosRepetidos.append([\n",
    "                texto_b, texto_ff\n",
    "            ])\n",
    "            textosObservados = 0\n",
    "            break # Se achou um similar não precisa de procurar mais\n",
    "    textosObservados = 0\n"
   ]
  },
  {
   "cell_type": "code",
   "execution_count": 11,
   "metadata": {},
   "outputs": [
    {
     "name": "stdout",
     "output_type": "stream",
     "text": [
      "0.22288823689910964 False\n"
     ]
    }
   ],
   "source": [
    "similaridadeTeste = cosine_similarity_text(\n",
    "    \" \".join(obterPalavrasTexto(\"Não há provas e nem indícios de que destruição de lavoura de café em Migrantinópolis seja obra do MST\")),\n",
    "    \" \".join(obterPalavrasTexto(\"É #FAKE que vídeo mostre obra do governo Bolsonaro em ferrovia de Marabá\"))\n",
    ")\n",
    "print(similaridadeTeste,ehSimilar(similaridadeTeste))"
   ]
  },
  {
   "cell_type": "code",
   "execution_count": 10,
   "metadata": {},
   "outputs": [],
   "source": [
    "with open(f\"./similaresLimite3.json\",'w+',encoding=\"utf8\") as f:\n",
    "    json.dump(textosRepetidos,f,indent=3,allow_nan=True,ensure_ascii = False)\n",
    "    f.close()"
   ]
  }
 ],
 "metadata": {
  "kernelspec": {
   "display_name": "base",
   "language": "python",
   "name": "python3"
  },
  "language_info": {
   "codemirror_mode": {
    "name": "ipython",
    "version": 3
   },
   "file_extension": ".py",
   "mimetype": "text/x-python",
   "name": "python",
   "nbconvert_exporter": "python",
   "pygments_lexer": "ipython3",
   "version": "3.10.9"
  }
 },
 "nbformat": 4,
 "nbformat_minor": 2
}
