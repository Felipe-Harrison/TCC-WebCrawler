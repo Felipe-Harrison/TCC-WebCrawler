{
 "cells": [
  {
   "cell_type": "code",
   "execution_count": 1,
   "metadata": {},
   "outputs": [],
   "source": [
    "import nltk\n",
    "import re\n",
    "import json\n",
    "import requests\n",
    "from bs4 import BeautifulSoup\n",
    "\n",
    "PATHTEXTOS = './textosProcessados/'"
   ]
  },
  {
   "cell_type": "markdown",
   "metadata": {},
   "source": [
    "## Acessando os textos obtidos"
   ]
  },
  {
   "cell_type": "code",
   "execution_count": 2,
   "metadata": {},
   "outputs": [],
   "source": [
    "def buscarElementosReferencia(page) -> list:\n",
    "    texto_block = page.find('article',attrs={'itemprop': \"articleBody\"}).findAll(\"em\")\n",
    "    # Remover <em/> que contem apenas o numero do Fato ou Fake\n",
    "    if (len(texto_block) > 2) and texto_block[-2].text.find(\"97305-9827\") != -1:\n",
    "        texto_block = texto_block[:-3]\n",
    "    return texto_block\n"
   ]
  },
  {
   "cell_type": "code",
   "execution_count": 3,
   "metadata": {},
   "outputs": [
    {
     "name": "stdout",
     "output_type": "stream",
     "text": [
      "1547\n"
     ]
    }
   ],
   "source": [
    "arquivos_nome = [\"textos_processados.json\"]\n",
    "\n",
    "todos_textos = []\n",
    "\n",
    "sem_referencia = 0\n",
    "\n",
    "for arquivo in arquivos_nome:\n",
    "    with open(f\"{PATHTEXTOS}{arquivo}\",'r') as f:\n",
    "        \n",
    "        jsonDataArquivo = json.load(f)\n",
    "        \n",
    "        for dataJson in jsonDataArquivo:\n",
    "            \n",
    "            if dataJson['origem'] == 'fatofake':\n",
    "                \n",
    "                response = requests.get(url=dataJson['url'])\n",
    "                content = response.content\n",
    "                page = BeautifulSoup(content,'html.parser')\n",
    "\n",
    "                ref_elements = buscarElementosReferencia(page)\n",
    "                \n",
    "                referencia_text = []\n",
    "                for element in ref_elements:\n",
    "                    referencia_text.append(element.text)\n",
    "\n",
    "                if len(referencia_text) <= 0:\n",
    "                    sem_referencia += 1\n",
    "                \n",
    "                dataJson['referencia'] = \" \".join(referencia_text)\n",
    "            \n",
    "                todos_textos.append(dataJson)\n",
    "            \n",
    "    f.close()\n",
    "    \n",
    "print(len(todos_textos))\n",
    "\n",
    "del arquivo,f,jsonDataArquivo,dataJson\n",
    "\n",
    "# Boatos Org\n",
    "# 1499\n",
    "# 33m31.6s"
   ]
  },
  {
   "cell_type": "code",
   "execution_count": 4,
   "metadata": {},
   "outputs": [
    {
     "data": {
      "text/plain": [
       "1191"
      ]
     },
     "execution_count": 4,
     "metadata": {},
     "output_type": "execute_result"
    }
   ],
   "source": [
    "sem_referencia"
   ]
  },
  {
   "cell_type": "code",
   "execution_count": 5,
   "metadata": {},
   "outputs": [],
   "source": [
    "with open(f\"./fatofakeTeste1.json\",'w+',encoding=\"utf8\") as f:\n",
    "    json.dump(todos_textos,f,indent=3,allow_nan=True,ensure_ascii = False)\n",
    "    f.close()"
   ]
  }
 ],
 "metadata": {
  "kernelspec": {
   "display_name": "base",
   "language": "python",
   "name": "python3"
  },
  "language_info": {
   "codemirror_mode": {
    "name": "ipython",
    "version": 3
   },
   "file_extension": ".py",
   "mimetype": "text/x-python",
   "name": "python",
   "nbconvert_exporter": "python",
   "pygments_lexer": "ipython3",
   "version": "0.0.0"
  }
 },
 "nbformat": 4,
 "nbformat_minor": 2
}
