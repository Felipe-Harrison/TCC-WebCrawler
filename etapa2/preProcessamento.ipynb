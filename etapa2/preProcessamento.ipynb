{
 "cells": [
  {
   "cell_type": "code",
   "execution_count": 1,
   "metadata": {},
   "outputs": [],
   "source": [
    "import nltk\n",
    "import re\n",
    "import json\n",
    "\n",
    "PATHTEXTOS = '../Resultados/'"
   ]
  },
  {
   "cell_type": "code",
   "execution_count": 2,
   "metadata": {},
   "outputs": [
    {
     "name": "stderr",
     "output_type": "stream",
     "text": [
      "[nltk_data] Downloading package stopwords to\n",
      "[nltk_data]     C:\\Users\\harri\\AppData\\Roaming\\nltk_data...\n",
      "[nltk_data]   Package stopwords is already up-to-date!\n"
     ]
    }
   ],
   "source": [
    "# StopWords\n",
    "nltk.download('stopwords')\n",
    "stopwords_portugues = set(nltk.corpus.stopwords.words('portuguese'))"
   ]
  },
  {
   "cell_type": "markdown",
   "metadata": {},
   "source": [
    "### Logica de limpeza dos texto\n",
    "* Selecionar apenas letras (remover pontuação, números e outros caracteres)\n",
    "* Transformar palavras em minusculo\n",
    "* Remover stopwords"
   ]
  },
  {
   "cell_type": "code",
   "execution_count": 3,
   "metadata": {},
   "outputs": [],
   "source": [
    "def buscaPalavras(texto:str) -> str:\n",
    "    palavrasMinusculas = re.findall(r'\\b[A-zÀ-úü]+\\b', texto.lower())\n",
    "    textoLimpo = [w for w in palavrasMinusculas if w not in stopwords_portugues]\n",
    "    return \" \".join(textoLimpo)"
   ]
  },
  {
   "cell_type": "markdown",
   "metadata": {},
   "source": [
    "### Tratamento dos textos obtidos"
   ]
  },
  {
   "cell_type": "code",
   "execution_count": 4,
   "metadata": {},
   "outputs": [],
   "source": [
    "arquivos_nome = [\"boatosorg_data.json\",\"efarsa_data.json\",\"fatofake_data.json\"]\n",
    "\n",
    "todos_textos = []\n",
    "\n",
    "for arquivo in arquivos_nome:\n",
    "    with open(f\"{PATHTEXTOS}{arquivo}\",'r') as f:\n",
    "        \n",
    "        jsonDataArquivo = json.load(f)\n",
    "        \n",
    "        for noticiaData in jsonDataArquivo:\n",
    "            \n",
    "            noticiaData['textoMinusculo'] = buscaPalavras(noticiaData['texto'])\n",
    "            noticiaData['tituloLimpo'] = buscaPalavras(noticiaData['titulo'])\n",
    "            noticiaData['origem'] = arquivo[:-10]\n",
    "\n",
    "            todos_textos.append(noticiaData)\n",
    "        \n",
    "    f.close()\n",
    "\n",
    "del arquivo,f,jsonDataArquivo,noticiaData"
   ]
  },
  {
   "cell_type": "code",
   "execution_count": 5,
   "metadata": {},
   "outputs": [
    {
     "data": {
      "text/plain": [
       "'boatosorg'"
      ]
     },
     "execution_count": 5,
     "metadata": {},
     "output_type": "execute_result"
    }
   ],
   "source": [
    "# Verificar algum texto da base\n",
    "todos_textos[0]['origem']"
   ]
  },
  {
   "cell_type": "markdown",
   "metadata": {},
   "source": [
    "### Salvar texto processados"
   ]
  },
  {
   "cell_type": "code",
   "execution_count": 6,
   "metadata": {},
   "outputs": [],
   "source": [
    "with open(f\"textosProcessados/textos_processados.json\",'w+',encoding=\"utf8\") as f:\n",
    "    json.dump(todos_textos,f,indent=3,allow_nan=True,ensure_ascii = False)\n",
    "    f.close()\n"
   ]
  }
 ],
 "metadata": {
  "kernelspec": {
   "display_name": "base",
   "language": "python",
   "name": "python3"
  },
  "language_info": {
   "codemirror_mode": {
    "name": "ipython",
    "version": 3
   },
   "file_extension": ".py",
   "mimetype": "text/x-python",
   "name": "python",
   "nbconvert_exporter": "python",
   "pygments_lexer": "ipython3",
   "version": "3.10.9"
  }
 },
 "nbformat": 4,
 "nbformat_minor": 2
}
